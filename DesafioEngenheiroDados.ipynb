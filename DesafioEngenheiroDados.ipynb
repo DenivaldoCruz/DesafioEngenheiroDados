{
 "cells": [
  {
   "cell_type": "markdown",
   "metadata": {},
   "source": [
    "# Desafio Engenheiro de Dados - Semantix\n",
    "### Canditado: Denivaldo Lopes Cruz - denivaldo.cruz@gmail.com\n",
    "### Data: 09/07/2019"
   ]
  },
  {
   "cell_type": "markdown",
   "metadata": {},
   "source": [
    "## HTTP requests to the NASA Kennedy Space Center WWW server\n",
    "#### Datasets: NASA_access_log_Jul95.gz e NASA_access_log_Aug95.gz\n",
    "#### Fonte: http://ita.ee.lbl.gov/html/contrib/NASA-HTTP.html"
   ]
  },
  {
   "cell_type": "code",
   "execution_count": 1,
   "metadata": {},
   "outputs": [],
   "source": [
    "from pyspark.context import SparkContext, SparkConf\n",
    "from pyspark.sql.session import SparkSession\n",
    "from pyspark.sql import SQLContext\n",
    "from pyspark.sql.functions import regexp_extract\n",
    "from pyspark.sql.functions import countDistinct\n",
    "from pyspark.sql.functions import unix_timestamp\n",
    "from pyspark.sql.functions import to_date\n",
    "from pyspark.sql.functions import desc\n",
    "from pyspark.sql.functions import sum\n",
    "from pyspark.sql.functions import when\n",
    "from pyspark.sql.functions import col\n",
    "\n",
    "import re\n"
   ]
  },
  {
   "cell_type": "code",
   "execution_count": 2,
   "metadata": {},
   "outputs": [],
   "source": [
    "#if __name__ == \"__main__\":\n",
    "sc = SparkContext()\n",
    "sqlContext = SQLContext(sc)\n",
    "spark = SparkSession.builder.appName(\"DesafioEngenheiroDadosDenivaldoCruz\").getOrCreate()"
   ]
  },
  {
   "cell_type": "markdown",
   "metadata": {},
   "source": [
    "### Carregando os datasets"
   ]
  },
  {
   "cell_type": "code",
   "execution_count": 3,
   "metadata": {},
   "outputs": [
    {
     "name": "stdout",
     "output_type": "stream",
     "text": [
      "+-----------------------------------------------------------------------------------------------------------------------+\n",
      "|value                                                                                                                  |\n",
      "+-----------------------------------------------------------------------------------------------------------------------+\n",
      "|199.72.81.55 - - [01/Jul/1995:00:00:01 -0400] \"GET /history/apollo/ HTTP/1.0\" 200 6245                                 |\n",
      "|unicomp6.unicomp.net - - [01/Jul/1995:00:00:06 -0400] \"GET /shuttle/countdown/ HTTP/1.0\" 200 3985                      |\n",
      "|199.120.110.21 - - [01/Jul/1995:00:00:09 -0400] \"GET /shuttle/missions/sts-73/mission-sts-73.html HTTP/1.0\" 200 4085   |\n",
      "|burger.letters.com - - [01/Jul/1995:00:00:11 -0400] \"GET /shuttle/countdown/liftoff.html HTTP/1.0\" 304 0               |\n",
      "|199.120.110.21 - - [01/Jul/1995:00:00:11 -0400] \"GET /shuttle/missions/sts-73/sts-73-patch-small.gif HTTP/1.0\" 200 4179|\n",
      "+-----------------------------------------------------------------------------------------------------------------------+\n",
      "only showing top 5 rows\n",
      "\n"
     ]
    }
   ],
   "source": [
    "df = spark.read.text(['NASA_access_log_Jul95.gz', 'NASA_access_log_Aug95.gz'])\n",
    "df.show(5, truncate=False)"
   ]
  },
  {
   "cell_type": "code",
   "execution_count": 18,
   "metadata": {},
   "outputs": [
    {
     "data": {
      "text/plain": [
       "Row(value='199.72.81.55 - - [01/Jul/1995:00:00:01 -0400] \"GET /history/apollo/ HTTP/1.0\" 200 6245')"
      ]
     },
     "execution_count": 18,
     "metadata": {},
     "output_type": "execute_result"
    }
   ],
   "source": [
    "df.head()"
   ]
  },
  {
   "cell_type": "code",
   "execution_count": 4,
   "metadata": {},
   "outputs": [
    {
     "name": "stdout",
     "output_type": "stream",
     "text": [
      "3461613\n"
     ]
    }
   ],
   "source": [
    "print(df.count())"
   ]
  },
  {
   "cell_type": "code",
   "execution_count": 5,
   "metadata": {},
   "outputs": [
    {
     "name": "stdout",
     "output_type": "stream",
     "text": [
      "+-------+--------------------+\n",
      "|summary|               value|\n",
      "+-------+--------------------+\n",
      "|  count|             3461613|\n",
      "|   mean|                null|\n",
      "| stddev|                null|\n",
      "|    min|***.novo.dk - - [...|\n",
      "|    max|zzzzzzzz.mindspri...|\n",
      "+-------+--------------------+\n",
      "\n"
     ]
    }
   ],
   "source": [
    "df.describe().show()"
   ]
  },
  {
   "cell_type": "markdown",
   "metadata": {},
   "source": [
    "### Construindo o dataset com os campos host, timestamp, codigo_retorno e total_bytes"
   ]
  },
  {
   "cell_type": "code",
   "execution_count": 6,
   "metadata": {},
   "outputs": [
    {
     "name": "stdout",
     "output_type": "stream",
     "text": [
      "+--------------------+--------------------+--------------+-----------+\n",
      "|                host|           timestamp|codigo_retorno|total_bytes|\n",
      "+--------------------+--------------------+--------------+-----------+\n",
      "|        199.72.81.55|01/Jul/1995:00:00...|           200|       6245|\n",
      "|unicomp6.unicomp.net|01/Jul/1995:00:00...|           200|       3985|\n",
      "|      199.120.110.21|01/Jul/1995:00:00...|           200|       4085|\n",
      "|  burger.letters.com|01/Jul/1995:00:00...|           304|          0|\n",
      "|      199.120.110.21|01/Jul/1995:00:00...|           200|       4179|\n",
      "|  burger.letters.com|01/Jul/1995:00:00...|           304|          0|\n",
      "|  burger.letters.com|01/Jul/1995:00:00...|           200|          0|\n",
      "|     205.212.115.106|01/Jul/1995:00:00...|           200|       3985|\n",
      "|         d104.aa.net|01/Jul/1995:00:00...|           200|       3985|\n",
      "|      129.94.144.152|01/Jul/1995:00:00...|           200|       7074|\n",
      "+--------------------+--------------------+--------------+-----------+\n",
      "only showing top 10 rows\n",
      "\n"
     ]
    }
   ],
   "source": [
    "## RegEx dos campos\n",
    "host_regex = r'(^\\S+\\.[\\S+\\.]+\\S+)\\s'\n",
    "timestamp_regex = r'\\[(\\d{2}/\\w{3}/\\d{4}:\\d{2}:\\d{2}:\\d{2} -\\d{4})]'\n",
    "codigo_retorno_regex = r'\\s(\\d{3})\\s'\n",
    "total_bytes_regex = r'\\s(\\d+)$'\n",
    "\n",
    "## Extracao dos campos\n",
    "df_log = df.select(regexp_extract('value', host_regex, 1).alias('host'),\n",
    "                    regexp_extract('value', timestamp_regex, 1).alias('timestamp'),\n",
    "                    regexp_extract('value', codigo_retorno_regex, 1).cast('integer').alias('codigo_retorno'),\n",
    "                    regexp_extract('value', total_bytes_regex, 1).cast('integer').alias('total_bytes'))\n",
    "\n",
    "df_log.cache()\n",
    "\n",
    "df_log.show(10, truncate=True)"
   ]
  },
  {
   "cell_type": "markdown",
   "metadata": {},
   "source": [
    "### Substituir hosts vazios por 'sem host'"
   ]
  },
  {
   "cell_type": "code",
   "execution_count": 7,
   "metadata": {},
   "outputs": [],
   "source": [
    "#df_log = df_log.filter(\"host != ''\")"
   ]
  },
  {
   "cell_type": "code",
   "execution_count": 8,
   "metadata": {},
   "outputs": [],
   "source": [
    "df_log = df_log.withColumn('host', when(col('host') == '', \"sem host\").otherwise(col('host')))"
   ]
  },
  {
   "cell_type": "code",
   "execution_count": 9,
   "metadata": {},
   "outputs": [
    {
     "name": "stdout",
     "output_type": "stream",
     "text": [
      "+--------+--------------------+--------------+-----------+\n",
      "|    host|           timestamp|codigo_retorno|total_bytes|\n",
      "+--------+--------------------+--------------+-----------+\n",
      "|sem host|01/Jul/1995:04:11...|           200|          0|\n",
      "|sem host|01/Jul/1995:13:09...|           200|       7074|\n",
      "|sem host|01/Jul/1995:13:09...|           200|      12169|\n",
      "|sem host|01/Jul/1995:13:10...|           200|       3666|\n",
      "|sem host|02/Jul/1995:04:14...|           200|       7074|\n",
      "|sem host|02/Jul/1995:04:14...|           200|       5866|\n",
      "|sem host|02/Jul/1995:04:14...|           200|        786|\n",
      "|sem host|02/Jul/1995:04:14...|           200|        363|\n",
      "|sem host|02/Jul/1995:04:14...|           200|        234|\n",
      "|sem host|02/Jul/1995:04:14...|           200|        669|\n",
      "|sem host|02/Jul/1995:04:16...|           200|       3977|\n",
      "|sem host|02/Jul/1995:04:16...|           200|      11473|\n",
      "|sem host|02/Jul/1995:04:16...|           200|       1204|\n",
      "|sem host|02/Jul/1995:04:19...|           200|       2489|\n",
      "|sem host|02/Jul/1995:04:19...|           200|       3635|\n",
      "|sem host|02/Jul/1995:04:19...|           200|       2537|\n",
      "|sem host|02/Jul/1995:04:19...|           200|      58026|\n",
      "|sem host|02/Jul/1995:04:20...|           200|     149114|\n",
      "|sem host|02/Jul/1995:13:02...|           200|       7074|\n",
      "|sem host|02/Jul/1995:13:02...|           200|      12290|\n",
      "+--------+--------------------+--------------+-----------+\n",
      "only showing top 20 rows\n",
      "\n"
     ]
    }
   ],
   "source": [
    "df_log.filter(\"host == 'sem host'\").show()"
   ]
  },
  {
   "cell_type": "code",
   "execution_count": 10,
   "metadata": {},
   "outputs": [
    {
     "name": "stdout",
     "output_type": "stream",
     "text": [
      "(3461613, 4)\n"
     ]
    }
   ],
   "source": [
    "## Total de registros\n",
    "print((df_log.count(), len(df_log.columns)))"
   ]
  },
  {
   "cell_type": "markdown",
   "metadata": {},
   "source": [
    "## Questões"
   ]
  },
  {
   "cell_type": "markdown",
   "metadata": {},
   "source": [
    "### 1. Número de hosts únicos: 137933"
   ]
  },
  {
   "cell_type": "code",
   "execution_count": 11,
   "metadata": {},
   "outputs": [
    {
     "name": "stdout",
     "output_type": "stream",
     "text": [
      "+--------------------+\n",
      "|count(DISTINCT host)|\n",
      "+--------------------+\n",
      "|              137933|\n",
      "+--------------------+\n",
      "\n"
     ]
    }
   ],
   "source": [
    "df_log.agg(countDistinct(\"host\")).show()"
   ]
  },
  {
   "cell_type": "markdown",
   "metadata": {},
   "source": [
    "### 2. O total de erros 404: 20899"
   ]
  },
  {
   "cell_type": "code",
   "execution_count": 12,
   "metadata": {},
   "outputs": [
    {
     "data": {
      "text/plain": [
       "20899"
      ]
     },
     "execution_count": 12,
     "metadata": {},
     "output_type": "execute_result"
    }
   ],
   "source": [
    "df_404 = df_log.filter(df_log.codigo_retorno == \"404\")\n",
    "df_404.count()"
   ]
  },
  {
   "cell_type": "markdown",
   "metadata": {},
   "source": [
    "### 3. Os 5 URLs que mais causaram erro 404\n",
    "\n",
    "#### hoohoo.ncsa.uiuc.edu|  251|\n",
    "#### piweba3y.prodigy.com|  157|\n",
    "#### jbiagioni.npt.nuw...|  132|\n",
    "#### piweba1y.prodigy.com|  114|\n",
    "#### www-d4.proxy.aol.com|   91|"
   ]
  },
  {
   "cell_type": "code",
   "execution_count": 13,
   "metadata": {},
   "outputs": [
    {
     "name": "stdout",
     "output_type": "stream",
     "text": [
      "+--------------------+-----+\n",
      "|                host|count|\n",
      "+--------------------+-----+\n",
      "|hoohoo.ncsa.uiuc.edu|  251|\n",
      "|piweba3y.prodigy.com|  157|\n",
      "|jbiagioni.npt.nuw...|  132|\n",
      "|piweba1y.prodigy.com|  114|\n",
      "|            sem host|  112|\n",
      "|www-d4.proxy.aol.com|   91|\n",
      "|piweba4y.prodigy.com|   86|\n",
      "|scooter.pa-x.dec.com|   69|\n",
      "|www-d1.proxy.aol.com|   64|\n",
      "|phaelon.ksc.nasa.gov|   64|\n",
      "|dialip-217.den.mm...|   62|\n",
      "|www-b4.proxy.aol.com|   62|\n",
      "|www-b3.proxy.aol.com|   61|\n",
      "|www-a2.proxy.aol.com|   60|\n",
      "|piweba2y.prodigy.com|   59|\n",
      "|www-d2.proxy.aol.com|   59|\n",
      "|  alyssa.prodigy.com|   56|\n",
      "|monarch.eng.buffa...|   56|\n",
      "|www-b2.proxy.aol.com|   53|\n",
      "|www-c4.proxy.aol.com|   53|\n",
      "+--------------------+-----+\n",
      "only showing top 20 rows\n",
      "\n"
     ]
    }
   ],
   "source": [
    "from pyspark.sql.functions import desc\n",
    "df_404.groupBy(\"host\").count().sort(desc(\"count\")).show()"
   ]
  },
  {
   "cell_type": "markdown",
   "metadata": {},
   "source": [
    "### 4. Quantidade de erros 404 por dia"
   ]
  },
  {
   "cell_type": "code",
   "execution_count": 14,
   "metadata": {},
   "outputs": [
    {
     "name": "stdout",
     "output_type": "stream",
     "text": [
      "+--------------------+--------------------+--------------+-----------+----------+\n",
      "|                host|           timestamp|codigo_retorno|total_bytes|       dia|\n",
      "+--------------------+--------------------+--------------+-----------+----------+\n",
      "|dd15-062.compuser...|01/Jul/1995:00:01...|           404|       null|1995-07-01|\n",
      "|   netport-27.iu.net|01/Jul/1995:00:10...|           404|       null|1995-07-01|\n",
      "|   netport-27.iu.net|01/Jul/1995:00:10...|           404|       null|1995-07-01|\n",
      "|blv-pm0-ip28.halc...|01/Jul/1995:00:14...|           404|       null|1995-07-01|\n",
      "|blv-pm0-ip28.halc...|01/Jul/1995:00:14...|           404|       null|1995-07-01|\n",
      "|cu-dialup-1005.ci...|01/Jul/1995:00:18...|           404|       null|1995-07-01|\n",
      "|cu-dialup-1005.ci...|01/Jul/1995:00:18...|           404|       null|1995-07-01|\n",
      "|cu-dialup-1005.ci...|01/Jul/1995:00:18...|           404|       null|1995-07-01|\n",
      "|    mimas.execpc.com|01/Jul/1995:00:18...|           404|       null|1995-07-01|\n",
      "|zoom112.telepath.com|01/Jul/1995:00:25...|           404|       null|1995-07-01|\n",
      "|ad08-027.compuser...|01/Jul/1995:00:37...|           404|       null|1995-07-01|\n",
      "|ad08-027.compuser...|01/Jul/1995:00:38...|           404|       null|1995-07-01|\n",
      "|piweba3y.prodigy.com|01/Jul/1995:00:44...|           404|       null|1995-07-01|\n",
      "|piweba3y.prodigy.com|01/Jul/1995:00:44...|           404|       null|1995-07-01|\n",
      "|     204.212.153.234|01/Jul/1995:00:45...|           404|       null|1995-07-01|\n",
      "|     204.212.153.234|01/Jul/1995:00:45...|           404|       null|1995-07-01|\n",
      "|ix-wbg-va2-26.ix....|01/Jul/1995:00:45...|           404|       null|1995-07-01|\n",
      "|ix-wbg-va2-26.ix....|01/Jul/1995:00:45...|           404|       null|1995-07-01|\n",
      "|ix-wbg-va2-26.ix....|01/Jul/1995:00:46...|           404|       null|1995-07-01|\n",
      "|ix-wbg-va2-26.ix....|01/Jul/1995:00:46...|           404|       null|1995-07-01|\n",
      "+--------------------+--------------------+--------------+-----------+----------+\n",
      "only showing top 20 rows\n",
      "\n"
     ]
    }
   ],
   "source": [
    "df_404 = df_404.withColumn(\"dia\",to_date(unix_timestamp(df_log[\"timestamp\"], \"dd/MMM/yyyy\").cast(\"timestamp\")))\n",
    "df_404.show()"
   ]
  },
  {
   "cell_type": "code",
   "execution_count": 15,
   "metadata": {},
   "outputs": [
    {
     "name": "stdout",
     "output_type": "stream",
     "text": [
      "+----------+-----+\n",
      "|       dia|count|\n",
      "+----------+-----+\n",
      "|1995-07-01|  316|\n",
      "|1995-07-02|  291|\n",
      "|1995-07-03|  474|\n",
      "|1995-07-04|  359|\n",
      "|1995-07-05|  497|\n",
      "|1995-07-06|  640|\n",
      "|1995-07-07|  570|\n",
      "|1995-07-08|  300|\n",
      "|1995-07-09|  348|\n",
      "|1995-07-10|  398|\n",
      "|1995-07-11|  471|\n",
      "|1995-07-12|  471|\n",
      "|1995-07-13|  532|\n",
      "|1995-07-14|  413|\n",
      "|1995-07-15|  254|\n",
      "|1995-07-16|  257|\n",
      "|1995-07-17|  406|\n",
      "|1995-07-18|  465|\n",
      "|1995-07-19|  639|\n",
      "|1995-07-20|  428|\n",
      "|1995-07-21|  334|\n",
      "|1995-07-22|  192|\n",
      "|1995-07-23|  233|\n",
      "|1995-07-24|  328|\n",
      "|1995-07-25|  461|\n",
      "|1995-07-26|  336|\n",
      "|1995-07-27|  336|\n",
      "|1995-07-28|   94|\n",
      "|1995-08-01|  243|\n",
      "|1995-08-03|  304|\n",
      "|1995-08-04|  346|\n",
      "|1995-08-05|  236|\n",
      "|1995-08-06|  373|\n",
      "|1995-08-07|  537|\n",
      "|1995-08-08|  391|\n",
      "|1995-08-09|  279|\n",
      "|1995-08-10|  315|\n",
      "|1995-08-11|  263|\n",
      "|1995-08-12|  196|\n",
      "|1995-08-13|  216|\n",
      "|1995-08-14|  287|\n",
      "|1995-08-15|  327|\n",
      "|1995-08-16|  259|\n",
      "|1995-08-17|  271|\n",
      "|1995-08-18|  256|\n",
      "|1995-08-19|  209|\n",
      "|1995-08-20|  312|\n",
      "|1995-08-21|  305|\n",
      "|1995-08-22|  288|\n",
      "|1995-08-23|  345|\n",
      "|1995-08-24|  420|\n",
      "|1995-08-25|  415|\n",
      "|1995-08-26|  366|\n",
      "|1995-08-27|  370|\n",
      "|1995-08-28|  410|\n",
      "|1995-08-29|  420|\n",
      "|1995-08-30|  571|\n",
      "|1995-08-31|  526|\n",
      "+----------+-----+\n",
      "\n"
     ]
    }
   ],
   "source": [
    "df_404.groupBy('dia').count().orderBy('dia').show(60)"
   ]
  },
  {
   "cell_type": "markdown",
   "metadata": {},
   "source": [
    "### 5. O total de bytes retornados"
   ]
  },
  {
   "cell_type": "code",
   "execution_count": 16,
   "metadata": {},
   "outputs": [
    {
     "name": "stdout",
     "output_type": "stream",
     "text": [
      "+----------------+\n",
      "|sum(total_bytes)|\n",
      "+----------------+\n",
      "|     65524314915|\n",
      "+----------------+\n",
      "\n"
     ]
    }
   ],
   "source": [
    "df_log.select(\"total_bytes\").groupBy().sum().show()"
   ]
  },
  {
   "cell_type": "code",
   "execution_count": 17,
   "metadata": {},
   "outputs": [
    {
     "name": "stdout",
     "output_type": "stream",
     "text": [
      "+----------------+\n",
      "|sum(total_bytes)|\n",
      "+----------------+\n",
      "|     65524314915|\n",
      "+----------------+\n",
      "\n"
     ]
    }
   ],
   "source": [
    "df_log.agg(sum(\"total_bytes\")).show()"
   ]
  },
  {
   "cell_type": "code",
   "execution_count": null,
   "metadata": {},
   "outputs": [],
   "source": []
  }
 ],
 "metadata": {
  "kernelspec": {
   "display_name": "Python 3",
   "language": "python",
   "name": "python3"
  },
  "language_info": {
   "codemirror_mode": {
    "name": "ipython",
    "version": 3
   },
   "file_extension": ".py",
   "mimetype": "text/x-python",
   "name": "python",
   "nbconvert_exporter": "python",
   "pygments_lexer": "ipython3",
   "version": "3.6.2"
  }
 },
 "nbformat": 4,
 "nbformat_minor": 2
}
